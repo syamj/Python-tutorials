{
 "cells": [
  {
   "cell_type": "markdown",
   "metadata": {},
   "source": [
    "# Dictionary"
   ]
  },
  {
   "cell_type": "code",
   "execution_count": 1,
   "metadata": {},
   "outputs": [],
   "source": [
    "#A dictionary can be invoked using the below.\n",
    "names = {}"
   ]
  },
  {
   "cell_type": "code",
   "execution_count": 2,
   "metadata": {},
   "outputs": [
    {
     "data": {
      "text/plain": [
       "dict"
      ]
     },
     "execution_count": 2,
     "metadata": {},
     "output_type": "execute_result"
    }
   ],
   "source": [
    "type(names)"
   ]
  },
  {
   "cell_type": "code",
   "execution_count": 3,
   "metadata": {},
   "outputs": [],
   "source": [
    "#Adding a key value pair to a dictionary.\n",
    "\n",
    "names['alex'] = 20"
   ]
  },
  {
   "cell_type": "code",
   "execution_count": 4,
   "metadata": {},
   "outputs": [
    {
     "data": {
      "text/plain": [
       "{'alex': 20}"
      ]
     },
     "execution_count": 4,
     "metadata": {},
     "output_type": "execute_result"
    }
   ],
   "source": [
    "names"
   ]
  },
  {
   "cell_type": "code",
   "execution_count": 5,
   "metadata": {},
   "outputs": [],
   "source": [
    "names['sam'] = 33\n",
    "names['john'] = 49\n",
    "names['albert'] = 10\n",
    "names['rex'] = 19"
   ]
  },
  {
   "cell_type": "code",
   "execution_count": 6,
   "metadata": {},
   "outputs": [
    {
     "data": {
      "text/plain": [
       "{'alex': 20, 'sam': 33, 'john': 49, 'albert': 10, 'rex': 19}"
      ]
     },
     "execution_count": 6,
     "metadata": {},
     "output_type": "execute_result"
    }
   ],
   "source": [
    "names"
   ]
  },
  {
   "cell_type": "code",
   "execution_count": 7,
   "metadata": {},
   "outputs": [
    {
     "data": {
      "text/plain": [
       "5"
      ]
     },
     "execution_count": 7,
     "metadata": {},
     "output_type": "execute_result"
    }
   ],
   "source": [
    "len(names) #Returns the total number of key-value pairs in a dictionary."
   ]
  },
  {
   "cell_type": "code",
   "execution_count": 8,
   "metadata": {},
   "outputs": [
    {
     "data": {
      "text/plain": [
       "20"
      ]
     },
     "execution_count": 8,
     "metadata": {},
     "output_type": "execute_result"
    }
   ],
   "source": [
    "#To get Value of a key in a dictionary\n",
    "names['alex']"
   ]
  },
  {
   "cell_type": "markdown",
   "metadata": {},
   "source": [
    "# Iteration through Dictionary"
   ]
  },
  {
   "cell_type": "code",
   "execution_count": 9,
   "metadata": {},
   "outputs": [
    {
     "name": "stdout",
     "output_type": "stream",
     "text": [
      "alex\n",
      "sam\n",
      "john\n",
      "albert\n",
      "rex\n"
     ]
    }
   ],
   "source": [
    "for name in names:\n",
    "  print(name)"
   ]
  },
  {
   "cell_type": "code",
   "execution_count": 10,
   "metadata": {},
   "outputs": [
    {
     "name": "stdout",
     "output_type": "stream",
     "text": [
      "alex 20\n",
      "sam 33\n",
      "john 49\n",
      "albert 10\n",
      "rex 19\n"
     ]
    }
   ],
   "source": [
    "for name in names:\n",
    "  print(name, names[name])"
   ]
  },
  {
   "cell_type": "markdown",
   "metadata": {},
   "source": [
    "# Dictionary Membership checking"
   ]
  },
  {
   "cell_type": "code",
   "execution_count": 11,
   "metadata": {},
   "outputs": [
    {
     "data": {
      "text/plain": [
       "True"
      ]
     },
     "execution_count": 11,
     "metadata": {},
     "output_type": "execute_result"
    }
   ],
   "source": [
    "'alex' in names"
   ]
  },
  {
   "cell_type": "code",
   "execution_count": 12,
   "metadata": {},
   "outputs": [
    {
     "data": {
      "text/plain": [
       "False"
      ]
     },
     "execution_count": 12,
     "metadata": {},
     "output_type": "execute_result"
    }
   ],
   "source": [
    "30 in names #Will check the key only"
   ]
  },
  {
   "cell_type": "markdown",
   "metadata": {},
   "source": [
    "# Deleting dictionary items"
   ]
  },
  {
   "cell_type": "code",
   "execution_count": 13,
   "metadata": {},
   "outputs": [],
   "source": [
    "del names['alex']"
   ]
  },
  {
   "cell_type": "code",
   "execution_count": 14,
   "metadata": {},
   "outputs": [
    {
     "data": {
      "text/plain": [
       "{'sam': 33, 'john': 49, 'albert': 10, 'rex': 19}"
      ]
     },
     "execution_count": 14,
     "metadata": {},
     "output_type": "execute_result"
    }
   ],
   "source": [
    "names"
   ]
  },
  {
   "cell_type": "code",
   "execution_count": 15,
   "metadata": {},
   "outputs": [
    {
     "name": "stdout",
     "output_type": "stream",
     "text": [
      "Enter your name: john\n",
      "john is present\n"
     ]
    }
   ],
   "source": [
    "#To check if a key is present in a dictionary.\n",
    "\n",
    "search = input(\"Enter your name: \")\n",
    "if search in names:\n",
    "  print(\"{} is present\".format(search))\n",
    "else:\n",
    "  print(\"{} is not present\".format(search))"
   ]
  },
  {
   "cell_type": "code",
   "execution_count": 16,
   "metadata": {},
   "outputs": [
    {
     "data": {
      "text/plain": [
       "33"
      ]
     },
     "execution_count": 16,
     "metadata": {},
     "output_type": "execute_result"
    }
   ],
   "source": [
    "names.get('sam') #To get the value of a key"
   ]
  },
  {
   "cell_type": "code",
   "execution_count": 17,
   "metadata": {},
   "outputs": [
    {
     "data": {
      "text/plain": [
       "404"
      ]
     },
     "execution_count": 17,
     "metadata": {},
     "output_type": "execute_result"
    }
   ],
   "source": [
    "names.get('syam', 404) #To print a value if the key doesn't exist in dict"
   ]
  },
  {
   "cell_type": "code",
   "execution_count": 18,
   "metadata": {},
   "outputs": [],
   "source": [
    "msg = \"An operating system consists of various fundamental programs which are needed by your computer so that it can communicate and receive instructions from users; read and write data to hard disks, tapes, and printers; control the use of memory; and run other software. The most important part of an operating system is the kernel. In a GNU Linux system, Linux is the kernel component. The rest of the system consists of other programs, many of which were written by or for the GNU Project. Because the Linux kernel alone does not form a working operating system, we prefer to use the term GNU Linux to refer to systems that many people casually refer to as Linux. \""
   ]
  },
  {
   "cell_type": "code",
   "execution_count": 19,
   "metadata": {},
   "outputs": [],
   "source": [
    "words = msg.replace(';', '').replace(',', '').replace('.', '').lower().split() #Shown in previous day class to split the string into a list"
   ]
  },
  {
   "cell_type": "code",
   "execution_count": 20,
   "metadata": {},
   "outputs": [
    {
     "data": {
      "text/plain": [
       "['an',\n",
       " 'operating',\n",
       " 'system',\n",
       " 'consists',\n",
       " 'of',\n",
       " 'various',\n",
       " 'fundamental',\n",
       " 'programs',\n",
       " 'which',\n",
       " 'are',\n",
       " 'needed',\n",
       " 'by',\n",
       " 'your',\n",
       " 'computer',\n",
       " 'so',\n",
       " 'that',\n",
       " 'it',\n",
       " 'can',\n",
       " 'communicate',\n",
       " 'and',\n",
       " 'receive',\n",
       " 'instructions',\n",
       " 'from',\n",
       " 'users',\n",
       " 'read',\n",
       " 'and',\n",
       " 'write',\n",
       " 'data',\n",
       " 'to',\n",
       " 'hard',\n",
       " 'disks',\n",
       " 'tapes',\n",
       " 'and',\n",
       " 'printers',\n",
       " 'control',\n",
       " 'the',\n",
       " 'use',\n",
       " 'of',\n",
       " 'memory',\n",
       " 'and',\n",
       " 'run',\n",
       " 'other',\n",
       " 'software',\n",
       " 'the',\n",
       " 'most',\n",
       " 'important',\n",
       " 'part',\n",
       " 'of',\n",
       " 'an',\n",
       " 'operating',\n",
       " 'system',\n",
       " 'is',\n",
       " 'the',\n",
       " 'kernel',\n",
       " 'in',\n",
       " 'a',\n",
       " 'gnu',\n",
       " 'linux',\n",
       " 'system',\n",
       " 'linux',\n",
       " 'is',\n",
       " 'the',\n",
       " 'kernel',\n",
       " 'component',\n",
       " 'the',\n",
       " 'rest',\n",
       " 'of',\n",
       " 'the',\n",
       " 'system',\n",
       " 'consists',\n",
       " 'of',\n",
       " 'other',\n",
       " 'programs',\n",
       " 'many',\n",
       " 'of',\n",
       " 'which',\n",
       " 'were',\n",
       " 'written',\n",
       " 'by',\n",
       " 'or',\n",
       " 'for',\n",
       " 'the',\n",
       " 'gnu',\n",
       " 'project',\n",
       " 'because',\n",
       " 'the',\n",
       " 'linux',\n",
       " 'kernel',\n",
       " 'alone',\n",
       " 'does',\n",
       " 'not',\n",
       " 'form',\n",
       " 'a',\n",
       " 'working',\n",
       " 'operating',\n",
       " 'system',\n",
       " 'we',\n",
       " 'prefer',\n",
       " 'to',\n",
       " 'use',\n",
       " 'the',\n",
       " 'term',\n",
       " 'gnu',\n",
       " 'linux',\n",
       " 'to',\n",
       " 'refer',\n",
       " 'to',\n",
       " 'systems',\n",
       " 'that',\n",
       " 'many',\n",
       " 'people',\n",
       " 'casually',\n",
       " 'refer',\n",
       " 'to',\n",
       " 'as',\n",
       " 'linux']"
      ]
     },
     "execution_count": 20,
     "metadata": {},
     "output_type": "execute_result"
    }
   ],
   "source": [
    "words"
   ]
  },
  {
   "cell_type": "code",
   "execution_count": 21,
   "metadata": {},
   "outputs": [
    {
     "data": {
      "text/plain": [
       "{'an': 2,\n",
       " 'operating': 3,\n",
       " 'system': 5,\n",
       " 'consists': 2,\n",
       " 'of': 6,\n",
       " 'various': 1,\n",
       " 'fundamental': 1,\n",
       " 'programs': 2,\n",
       " 'which': 2,\n",
       " 'are': 1,\n",
       " 'needed': 1,\n",
       " 'by': 2,\n",
       " 'your': 1,\n",
       " 'computer': 1,\n",
       " 'so': 1,\n",
       " 'that': 2,\n",
       " 'it': 1,\n",
       " 'can': 1,\n",
       " 'communicate': 1,\n",
       " 'and': 4,\n",
       " 'receive': 1,\n",
       " 'instructions': 1,\n",
       " 'from': 1,\n",
       " 'users': 1,\n",
       " 'read': 1,\n",
       " 'write': 1,\n",
       " 'data': 1,\n",
       " 'to': 5,\n",
       " 'hard': 1,\n",
       " 'disks': 1,\n",
       " 'tapes': 1,\n",
       " 'printers': 1,\n",
       " 'control': 1,\n",
       " 'the': 9,\n",
       " 'use': 2,\n",
       " 'memory': 1,\n",
       " 'run': 1,\n",
       " 'other': 2,\n",
       " 'software': 1,\n",
       " 'most': 1,\n",
       " 'important': 1,\n",
       " 'part': 1,\n",
       " 'is': 2,\n",
       " 'kernel': 3,\n",
       " 'in': 1,\n",
       " 'a': 2,\n",
       " 'gnu': 3,\n",
       " 'linux': 5,\n",
       " 'component': 1,\n",
       " 'rest': 1,\n",
       " 'many': 2,\n",
       " 'were': 1,\n",
       " 'written': 1,\n",
       " 'or': 1,\n",
       " 'for': 1,\n",
       " 'project': 1,\n",
       " 'because': 1,\n",
       " 'alone': 1,\n",
       " 'does': 1,\n",
       " 'not': 1,\n",
       " 'form': 1,\n",
       " 'working': 1,\n",
       " 'we': 1,\n",
       " 'prefer': 1,\n",
       " 'term': 1,\n",
       " 'refer': 2,\n",
       " 'systems': 1,\n",
       " 'people': 1,\n",
       " 'casually': 1,\n",
       " 'as': 1}"
      ]
     },
     "execution_count": 21,
     "metadata": {},
     "output_type": "execute_result"
    }
   ],
   "source": [
    "#To find the number of occurances of a word in a list using dictionary.\n",
    "\n",
    "words_counter = {}\n",
    "for word in words:\n",
    "  if word in words_counter:\n",
    "    words_counter[word] = words_counter[word] + 1\n",
    "  else:\n",
    "    words_counter[word] = 1\n",
    "\n",
    "words_counter"
   ]
  },
  {
   "cell_type": "code",
   "execution_count": 22,
   "metadata": {},
   "outputs": [
    {
     "name": "stdout",
     "output_type": "stream",
     "text": [
      "of 6\n",
      "the 9\n"
     ]
    }
   ],
   "source": [
    "#To view words with more than 5 occurances.\n",
    "\n",
    "for word in words_counter:\n",
    "  if words_counter[word] > 5:\n",
    "    print(word, words_counter[word])"
   ]
  },
  {
   "cell_type": "code",
   "execution_count": 23,
   "metadata": {},
   "outputs": [],
   "source": [
    "#To check the file size of all conf files in a folder and save them to a dictionary.\n",
    "\n",
    "import os\n",
    "file_counter = {}\n",
    "for file in os.listdir('/etc'):\n",
    "  abs_path = os.path.join('/etc/', file)\n",
    "  if abs_path.endswith('.conf'):\n",
    "    size = os.path.getsize(abs_path)\n",
    "    file_counter[abs_path] = size"
   ]
  },
  {
   "cell_type": "code",
   "execution_count": 24,
   "metadata": {},
   "outputs": [
    {
     "data": {
      "text/plain": [
       "{'/etc/nsswitch.conf': 497,\n",
       " '/etc/mke2fs.conf': 812,\n",
       " '/etc/sysctl.conf': 2683,\n",
       " '/etc/deluser.conf': 604,\n",
       " '/etc/host.conf': 92,\n",
       " '/etc/pam.conf': 552,\n",
       " '/etc/libaudit.conf': 191,\n",
       " '/etc/gai.conf': 2584,\n",
       " '/etc/resolv.conf': 141,\n",
       " '/etc/adduser.conf': 3028,\n",
       " '/etc/ld.so.conf': 34,\n",
       " '/etc/debconf.conf': 2969,\n",
       " '/etc/ucf.conf': 1260,\n",
       " '/etc/ca-certificates.conf': 5898}"
      ]
     },
     "execution_count": 24,
     "metadata": {},
     "output_type": "execute_result"
    }
   ],
   "source": [
    "file_counter"
   ]
  },
  {
   "cell_type": "code",
   "execution_count": 28,
   "metadata": {},
   "outputs": [
    {
     "data": {
      "text/plain": [
       "{'syam': 10, 'rex': 15, 'jake': 20, 'alex': 10, 'sam': 50}"
      ]
     },
     "execution_count": 28,
     "metadata": {},
     "output_type": "execute_result"
    }
   ],
   "source": [
    "#To add multiple values to a dictionary in a go.\n",
    "d = {'syam':10 , 'rex': 15 , 'jake': 20 , 'alex': 10 , 'sam': 50}\n",
    "d"
   ]
  },
  {
   "cell_type": "code",
   "execution_count": 31,
   "metadata": {},
   "outputs": [
    {
     "data": {
      "text/plain": [
       "dict_keys(['syam', 'rex', 'jake', 'alex', 'sam'])"
      ]
     },
     "execution_count": 31,
     "metadata": {},
     "output_type": "execute_result"
    }
   ],
   "source": [
    "d.keys() #To view all keys"
   ]
  },
  {
   "cell_type": "code",
   "execution_count": 33,
   "metadata": {},
   "outputs": [
    {
     "data": {
      "text/plain": [
       "['syam', 'rex', 'jake', 'alex', 'sam']"
      ]
     },
     "execution_count": 33,
     "metadata": {},
     "output_type": "execute_result"
    }
   ],
   "source": [
    "list(d) #To view all keys in a list"
   ]
  },
  {
   "cell_type": "code",
   "execution_count": 34,
   "metadata": {},
   "outputs": [
    {
     "data": {
      "text/plain": [
       "dict_values([10, 15, 20, 10, 50])"
      ]
     },
     "execution_count": 34,
     "metadata": {},
     "output_type": "execute_result"
    }
   ],
   "source": [
    "d.values() #To view all values in a dict. "
   ]
  },
  {
   "cell_type": "markdown",
   "metadata": {},
   "source": [
    "# Tuples"
   ]
  },
  {
   "cell_type": "code",
   "execution_count": 35,
   "metadata": {},
   "outputs": [],
   "source": [
    "#Tuples are immutable version of a list."
   ]
  },
  {
   "cell_type": "code",
   "execution_count": 36,
   "metadata": {},
   "outputs": [],
   "source": [
    "t = ('test' ,'hi', 12 , 'how' , 3456 , 'you')"
   ]
  },
  {
   "cell_type": "code",
   "execution_count": 37,
   "metadata": {},
   "outputs": [
    {
     "data": {
      "text/plain": [
       "'test'"
      ]
     },
     "execution_count": 37,
     "metadata": {},
     "output_type": "execute_result"
    }
   ],
   "source": [
    "t[0]"
   ]
  },
  {
   "cell_type": "code",
   "execution_count": 38,
   "metadata": {},
   "outputs": [
    {
     "name": "stdout",
     "output_type": "stream",
     "text": [
      "test\n",
      "hi\n",
      "12\n",
      "how\n",
      "3456\n",
      "you\n"
     ]
    }
   ],
   "source": [
    "for i in t:\n",
    "  print(i)"
   ]
  },
  {
   "cell_type": "code",
   "execution_count": 39,
   "metadata": {},
   "outputs": [
    {
     "ename": "TypeError",
     "evalue": "'tuple' object doesn't support item deletion",
     "output_type": "error",
     "traceback": [
      "\u001b[0;31m---------------------------------------------------------------------------\u001b[0m",
      "\u001b[0;31mTypeError\u001b[0m                                 Traceback (most recent call last)",
      "\u001b[0;32m<ipython-input-39-c3f2aebc449c>\u001b[0m in \u001b[0;36m<module>\u001b[0;34m\u001b[0m\n\u001b[0;32m----> 1\u001b[0;31m \u001b[0;32mdel\u001b[0m \u001b[0mt\u001b[0m\u001b[0;34m[\u001b[0m\u001b[0;36m0\u001b[0m\u001b[0;34m]\u001b[0m \u001b[0;31m#Tuples doesnt support deletion\u001b[0m\u001b[0;34m\u001b[0m\u001b[0;34m\u001b[0m\u001b[0m\n\u001b[0m",
      "\u001b[0;31mTypeError\u001b[0m: 'tuple' object doesn't support item deletion"
     ]
    }
   ],
   "source": [
    "del t[0] #Tuples doesnt support deletion"
   ]
  },
  {
   "cell_type": "code",
   "execution_count": 40,
   "metadata": {},
   "outputs": [
    {
     "data": {
      "text/plain": [
       "1"
      ]
     },
     "execution_count": 40,
     "metadata": {},
     "output_type": "execute_result"
    }
   ],
   "source": [
    "t.count('test')"
   ]
  },
  {
   "cell_type": "code",
   "execution_count": 41,
   "metadata": {},
   "outputs": [
    {
     "data": {
      "text/plain": [
       "0"
      ]
     },
     "execution_count": 41,
     "metadata": {},
     "output_type": "execute_result"
    }
   ],
   "source": [
    "t.index('test')"
   ]
  },
  {
   "cell_type": "code",
   "execution_count": 42,
   "metadata": {},
   "outputs": [
    {
     "data": {
      "text/plain": [
       "5"
      ]
     },
     "execution_count": 42,
     "metadata": {},
     "output_type": "execute_result"
    }
   ],
   "source": [
    "t.index('you')"
   ]
  },
  {
   "cell_type": "code",
   "execution_count": 43,
   "metadata": {},
   "outputs": [],
   "source": [
    "t = ('syam', 'fuji',[1,2,3])"
   ]
  },
  {
   "cell_type": "code",
   "execution_count": 44,
   "metadata": {},
   "outputs": [
    {
     "data": {
      "text/plain": [
       "3"
      ]
     },
     "execution_count": 44,
     "metadata": {},
     "output_type": "execute_result"
    }
   ],
   "source": [
    "len(t[2])"
   ]
  },
  {
   "cell_type": "code",
   "execution_count": 45,
   "metadata": {},
   "outputs": [],
   "source": [
    "t[2].append(4)"
   ]
  },
  {
   "cell_type": "code",
   "execution_count": 46,
   "metadata": {},
   "outputs": [
    {
     "data": {
      "text/plain": [
       "('syam', 'fuji', [1, 2, 3, 4])"
      ]
     },
     "execution_count": 46,
     "metadata": {},
     "output_type": "execute_result"
    }
   ],
   "source": [
    "t"
   ]
  },
  {
   "cell_type": "code",
   "execution_count": 47,
   "metadata": {},
   "outputs": [],
   "source": [
    "del t[2][0]"
   ]
  },
  {
   "cell_type": "code",
   "execution_count": 48,
   "metadata": {},
   "outputs": [
    {
     "data": {
      "text/plain": [
       "('syam', 'fuji', [2, 3, 4])"
      ]
     },
     "execution_count": 48,
     "metadata": {},
     "output_type": "execute_result"
    }
   ],
   "source": [
    "t"
   ]
  },
  {
   "cell_type": "code",
   "execution_count": 50,
   "metadata": {},
   "outputs": [
    {
     "data": {
      "text/plain": [
       "dict_items([('syam', 10), ('rex', 15), ('jake', 20), ('alex', 10), ('sam', 50)])"
      ]
     },
     "execution_count": 50,
     "metadata": {},
     "output_type": "execute_result"
    }
   ],
   "source": [
    "d.items() #The dictionary items will be shown as a list of tuples."
   ]
  },
  {
   "cell_type": "code",
   "execution_count": 51,
   "metadata": {},
   "outputs": [
    {
     "name": "stdout",
     "output_type": "stream",
     "text": [
      "rex has a rank of 15\n",
      "jake has a rank of 20\n",
      "sam has a rank of 50\n"
     ]
    }
   ],
   "source": [
    "for i in d.items():\n",
    "  name = i[0]\n",
    "  rank = i[1]\n",
    "  if rank >= 15:\n",
    "    print(\"{} has a rank of {}\".format(name,rank))"
   ]
  },
  {
   "cell_type": "markdown",
   "metadata": {},
   "source": [
    "# Unpacking"
   ]
  },
  {
   "cell_type": "code",
   "execution_count": 52,
   "metadata": {},
   "outputs": [],
   "source": [
    "l = ['syam', 15 , 'syam@gmail.com']"
   ]
  },
  {
   "cell_type": "code",
   "execution_count": 53,
   "metadata": {},
   "outputs": [],
   "source": [
    "#We can assign the values to a variable like this.\n",
    "\n",
    "name = l[0]\n",
    "rank = l[1]\n",
    "email = l[2]"
   ]
  },
  {
   "cell_type": "code",
   "execution_count": 54,
   "metadata": {},
   "outputs": [],
   "source": [
    "#Or by this way\n",
    "name, rank, email = l"
   ]
  },
  {
   "cell_type": "code",
   "execution_count": 55,
   "metadata": {},
   "outputs": [
    {
     "name": "stdout",
     "output_type": "stream",
     "text": [
      "rex has a rank of 15\n",
      "jake has a rank of 20\n",
      "sam has a rank of 50\n"
     ]
    }
   ],
   "source": [
    "for i in d.items():\n",
    "  name,rank = i\n",
    "  if rank >= 15:\n",
    "    print(\"{} has a rank of {}\".format(name,rank))"
   ]
  },
  {
   "cell_type": "code",
   "execution_count": 56,
   "metadata": {},
   "outputs": [
    {
     "name": "stdout",
     "output_type": "stream",
     "text": [
      "rex has a rank of 15\n",
      "jake has a rank of 20\n",
      "sam has a rank of 50\n"
     ]
    }
   ],
   "source": [
    "#It can be further shortened.\n",
    "\n",
    "for name,rank in d.items():\n",
    "  if rank >= 15:\n",
    "    print(\"{} has a rank of {}\".format(name,rank))"
   ]
  },
  {
   "cell_type": "markdown",
   "metadata": {},
   "source": [
    "# Nested Lists"
   ]
  },
  {
   "cell_type": "code",
   "execution_count": 57,
   "metadata": {},
   "outputs": [],
   "source": [
    "employee = [['alex', 35000] , ['sam' , 40000] , ['jess', 10000] , ['mark' , 23000]]"
   ]
  },
  {
   "cell_type": "code",
   "execution_count": 58,
   "metadata": {},
   "outputs": [
    {
     "data": {
      "text/plain": [
       "[['alex', 35000], ['sam', 40000], ['jess', 10000], ['mark', 23000]]"
      ]
     },
     "execution_count": 58,
     "metadata": {},
     "output_type": "execute_result"
    }
   ],
   "source": [
    "employee"
   ]
  },
  {
   "cell_type": "code",
   "execution_count": 59,
   "metadata": {},
   "outputs": [
    {
     "name": "stdout",
     "output_type": "stream",
     "text": [
      "alex\n",
      "sam\n"
     ]
    }
   ],
   "source": [
    "for name,mark in employee:\n",
    "  if mark > 25000:\n",
    "    print(name)"
   ]
  },
  {
   "cell_type": "markdown",
   "metadata": {},
   "source": [
    "# Reading files from Python"
   ]
  },
  {
   "cell_type": "code",
   "execution_count": 64,
   "metadata": {},
   "outputs": [],
   "source": [
    "file = 'environment.yml'\n",
    "fh = open(file)"
   ]
  },
  {
   "cell_type": "code",
   "execution_count": 65,
   "metadata": {},
   "outputs": [
    {
     "name": "stdout",
     "output_type": "stream",
     "text": [
      "channels:\n",
      "\n",
      "  - conda-forge\n",
      "\n",
      "  - defaults\n",
      "\n",
      "dependencies:\n",
      "\n",
      "  - python=3.6\n",
      "\n",
      "  - cython\n",
      "\n",
      "  - ipython\n",
      "\n",
      "  - ipyparallel\n",
      "\n",
      "  - ipywidgets\n",
      "\n",
      "  - numpy\n",
      "\n",
      "  - matplotlib\n",
      "\n",
      "  - mpi4py\n",
      "\n",
      "  - networkx\n",
      "\n",
      "  - pandas\n",
      "\n",
      "  - scikit-image\n",
      "\n",
      "  - scikit-learn\n",
      "\n",
      "  - sympy\n",
      "\n"
     ]
    }
   ],
   "source": [
    "for line in fh:\n",
    "  print(line)"
   ]
  },
  {
   "cell_type": "code",
   "execution_count": null,
   "metadata": {},
   "outputs": [],
   "source": []
  }
 ],
 "metadata": {
  "kernelspec": {
   "display_name": "Python 3",
   "language": "python",
   "name": "python3"
  },
  "language_info": {
   "codemirror_mode": {
    "name": "ipython",
    "version": 3
   },
   "file_extension": ".py",
   "mimetype": "text/x-python",
   "name": "python",
   "nbconvert_exporter": "python",
   "pygments_lexer": "ipython3",
   "version": "3.6.7"
  }
 },
 "nbformat": 4,
 "nbformat_minor": 2
}
